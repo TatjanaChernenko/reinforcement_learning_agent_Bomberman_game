{
 "cells": [
  {
   "cell_type": "code",
   "execution_count": 2,
   "metadata": {},
   "outputs": [],
   "source": [
    "%run visualize.py"
   ]
  },
  {
   "cell_type": "code",
   "execution_count": 7,
   "metadata": {},
   "outputs": [],
   "source": [
    "#Save plots?\n",
    "save = True\n",
    "# Plot both? Useful at the beginning\n",
    "plot_both = True\n",
    "# Directory\n",
    "save_perf = \"versions/simpleagenttask3\"\n",
    "\n",
    "# When does learning start?\n",
    "start_of_learning = 350\n",
    "# How many crates are there in total?\n",
    "total_crates = 132\n",
    "\n",
    "# Load settings, length of training\n",
    "CONFIG = np.load(save_perf+\"/config.npy\")\n",
    "s = np.load(save_perf+\"/settings.npy\")\n",
    "# Length, start_of_learning, max_steps, total_crates\n",
    "VALUES = [get_length(save_perf),start_of_learning,s[15],total_crates]\n",
    "\n",
    "# For learning crates and coins simultaneously:\n",
    "index_crate = np.full((VALUES[0]),True)\n",
    "index_coin = [i % 12 in [0,5,9] for i in np.arange(VALUES[0])]\n",
    "index_all = np.full((VALUES[0]),True)\n",
    "\n",
    "# Mean intervals\n",
    "AV = [5,20]\n",
    "\n",
    "# x limit\n",
    "LIMIT = [0,VALUES[0]-1]\n",
    "\n",
    "# Get FLOW, reward, choice, action, total, epsilon_eff\n",
    "#FLOW = get_FLOW(save_perf, index_all)\n",
    "\n",
    "# Collect  AV, FLOW, FLOW_av, FLOW_avl\n",
    "FLOW_A = get_FLOW_A(get_FLOW(save_perf, index_all), AV)\n",
    "\n",
    "# Get baseline of random choice, reward, coins, crates, length, points etc.\n",
    "RANDOM = get_compare(FLOW_A, VALUES)\n",
    "\n",
    "# Memory size\n",
    "MEMORY = get_memory(FLOW_A)\n",
    "\n",
    "# Versions for coin and crate\n",
    "#FLOW_A_crate, LIMIT_crate, VALUES_crate, RANDOM_crate = get_FALVR(save_perf, index_crate, AV, LIMIT, VALUES)\n",
    "#FLOW_A_coin, LIMIT_coin, VALUES_coin, RANDOM_coin = get_FALVR(save_perf, index_coin, AV, LIMIT, VALUES)"
   ]
  },
  {
   "cell_type": "code",
   "execution_count": 8,
   "metadata": {},
   "outputs": [],
   "source": [
    "np.save(\"simple_agent_task3.npy\",RANDOM[:-1])"
   ]
  },
  {
   "cell_type": "code",
   "execution_count": null,
   "metadata": {
    "scrolled": false
   },
   "outputs": [],
   "source": [
    "# With enemies\n",
    "plot_ALL_LONG(FLOW_A, LIMIT, VALUES, MEMORY, RANDOM, CONFIG, save_perf, save=save, both=plot_both)"
   ]
  },
  {
   "cell_type": "code",
   "execution_count": null,
   "metadata": {},
   "outputs": [],
   "source": [
    "# Without enemies\n",
    "plot_ONLY_CRATE_LONG(FLOW_A, LIMIT, VALUES, MEMORY, RANDOM, CONFIG, save_perf, save=save, both=plot_both)"
   ]
  }
 ],
 "metadata": {
  "kernelspec": {
   "display_name": "Python 3",
   "language": "python",
   "name": "python3"
  },
  "language_info": {
   "codemirror_mode": {
    "name": "ipython",
    "version": 3
   },
   "file_extension": ".py",
   "mimetype": "text/x-python",
   "name": "python",
   "nbconvert_exporter": "python",
   "pygments_lexer": "ipython3",
   "version": "3.7.1"
  }
 },
 "nbformat": 4,
 "nbformat_minor": 2
}
